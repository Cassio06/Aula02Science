{
  "nbformat": 4,
  "nbformat_minor": 0,
  "metadata": {
    "colab": {
      "provenance": []
    },
    "kernelspec": {
      "name": "python3",
      "display_name": "Python 3"
    },
    "language_info": {
      "name": "python"
    }
  },
  "cells": [
    {
      "cell_type": "code",
      "execution_count": null,
      "metadata": {
        "colab": {
          "base_uri": "https://localhost:8080/"
        },
        "id": "ITSOBK_o-7Cg",
        "outputId": "f86fdb10-7d1f-400e-ec2f-54051ca4e89a"
      },
      "outputs": [
        {
          "output_type": "stream",
          "name": "stdout",
          "text": [
            "Digite um Inteiro 2\n",
            "Digite outro Inteiro 2\n",
            "4\n"
          ]
        }
      ],
      "source": [
        "#Calculos\n",
        "var1 = int(input('Digite um Inteiro 2'))\n",
        "var2 = int(input('Digite outro Inteiro '))\n",
        "\n",
        "exp = var1 ** var2\n",
        "print(exp)"
      ]
    },
    {
      "cell_type": "code",
      "source": [
        "#Calculos\n",
        "var1 = int(input('Digite um Inteiro '))\n",
        "var2 = int(input('Digite outro Inteiro '))\n",
        "\n",
        "resto = var1 % var2\n",
        "print(resto)"
      ],
      "metadata": {
        "id": "y8PPrO-p_K71"
      },
      "execution_count": null,
      "outputs": []
    },
    {
      "cell_type": "code",
      "source": [
        "#Calculos\n",
        "a = 3\n",
        "b = 4\n",
        "c = a < b\n",
        "d = a > b\n",
        "e = a == b\n",
        "\n",
        "print('Valor de C:', c)\n",
        "print('Valor de D:', d)\n",
        "print('Valor de E:', e)\n",
        "type(c)\n",
        "type(d)\n",
        "type(e)"
      ],
      "metadata": {
        "colab": {
          "base_uri": "https://localhost:8080/"
        },
        "id": "nECoyEliAUFK",
        "outputId": "be82c224-0059-4714-bd08-6c88be7b5e9a"
      },
      "execution_count": null,
      "outputs": [
        {
          "output_type": "stream",
          "name": "stdout",
          "text": [
            "Valor de C: True\n",
            "Valor de D: False\n",
            "Valor de E: False\n"
          ]
        },
        {
          "output_type": "execute_result",
          "data": {
            "text/plain": [
              "bool"
            ]
          },
          "metadata": {},
          "execution_count": 13
        }
      ]
    },
    {
      "cell_type": "code",
      "source": [
        "A = True\n",
        "B = False\n",
        "#Uso do and de forma facil\n",
        "print('Valor de A e B: ', A and B)"
      ],
      "metadata": {
        "colab": {
          "base_uri": "https://localhost:8080/"
        },
        "id": "QF8XGFIuEHod",
        "outputId": "2cf657b6-d690-4608-fc70-b90d64bafd7f"
      },
      "execution_count": null,
      "outputs": [
        {
          "output_type": "stream",
          "name": "stdout",
          "text": [
            "Valor de A e B:  False\n"
          ]
        }
      ]
    },
    {
      "cell_type": "code",
      "source": [
        "idade = int(input('Qual sua Idade? '))\n",
        "permissao = input('S/N ')\n",
        "#Uso do and de forma melhor aplicada\n",
        "if idade >= 18 and permissao == 'S':\n",
        "  print(True)\n",
        "else:\n",
        "  print(False)"
      ],
      "metadata": {
        "colab": {
          "base_uri": "https://localhost:8080/"
        },
        "id": "aoCXIuZ1BunM",
        "outputId": "8a307bec-0fa4-4020-b0b3-3d0d6f14dee5"
      },
      "execution_count": null,
      "outputs": [
        {
          "output_type": "stream",
          "name": "stdout",
          "text": [
            "Qual sua Idade? 18\n",
            "S/N S\n",
            "True\n"
          ]
        }
      ]
    },
    {
      "cell_type": "code",
      "source": [
        "A = True\n",
        "B = False\n",
        "#Uso do or de forma facil\n",
        "print('Valor de A ou B: ', A or B)"
      ],
      "metadata": {
        "colab": {
          "base_uri": "https://localhost:8080/"
        },
        "id": "m91QkIl_D4Dl",
        "outputId": "eeb7b390-d07a-467a-a1c1-8234f99d5ba3"
      },
      "execution_count": null,
      "outputs": [
        {
          "output_type": "stream",
          "name": "stdout",
          "text": [
            "Valor de A ou B:  True\n"
          ]
        }
      ]
    },
    {
      "cell_type": "code",
      "source": [
        "A = False\n",
        "B = False\n",
        "#Uso do or de forma facil\n",
        "print('Valor de A ou B: ', A or B)"
      ],
      "metadata": {
        "colab": {
          "base_uri": "https://localhost:8080/"
        },
        "id": "Q8OpjlIFEcwl",
        "outputId": "a2c8e533-e57e-47b8-e016-1768b43f272d"
      },
      "execution_count": null,
      "outputs": [
        {
          "output_type": "stream",
          "name": "stdout",
          "text": [
            "Valor de A ou B:  False\n"
          ]
        }
      ]
    },
    {
      "cell_type": "code",
      "source": [
        "a = 5\n",
        "b = 6\n",
        "#Uso do or de forma melhor aplicada\n",
        "if a == 5 or b == 6:\n",
        "  print(True)\n",
        "else:\n",
        "  print(False)"
      ],
      "metadata": {
        "colab": {
          "base_uri": "https://localhost:8080/"
        },
        "id": "xdopIDwDENQJ",
        "outputId": "cbb69bce-355b-4a4f-9445-8e1e136ca48a"
      },
      "execution_count": null,
      "outputs": [
        {
          "output_type": "stream",
          "name": "stdout",
          "text": [
            "True\n"
          ]
        }
      ]
    },
    {
      "cell_type": "code",
      "source": [
        "a = 5\n",
        "b = 7\n",
        "#Uso do or de forma melhor aplicada\n",
        "if a == 5 or b == 6:\n",
        "  print(True)\n",
        "else:\n",
        "  print(False)"
      ],
      "metadata": {
        "id": "pPTe0gL_EX_E"
      },
      "execution_count": null,
      "outputs": []
    },
    {
      "cell_type": "code",
      "source": [
        "condicao = True\n",
        "if not condicao:\n",
        "  print('A condição é falsa')\n",
        "else:\n",
        "  print('A condição é verdadeira')"
      ],
      "metadata": {
        "id": "w3djfwb2GHk_"
      },
      "execution_count": null,
      "outputs": []
    }
  ]
}